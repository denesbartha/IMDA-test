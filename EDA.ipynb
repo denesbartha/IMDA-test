{
 "cells": [
  {
   "cell_type": "code",
   "execution_count": 16,
   "id": "initial_id",
   "metadata": {
    "collapsed": true,
    "ExecuteTime": {
     "end_time": "2024-01-16T07:23:47.873459570Z",
     "start_time": "2024-01-16T07:23:47.865015965Z"
    }
   },
   "outputs": [],
   "source": [
    "import os\n",
    "import glob\n",
    "\n",
    "from PIL import Image"
   ]
  },
  {
   "cell_type": "code",
   "execution_count": 2,
   "outputs": [],
   "source": [
    "# starting position of the first letter\n",
    "start_x = 5\n",
    "start_y = 11\n",
    "spacing = 1\n",
    "letter_width = 8\n",
    "letter_height = 10\n",
    "letter_cnt = 5"
   ],
   "metadata": {
    "collapsed": false,
    "ExecuteTime": {
     "end_time": "2024-01-16T06:57:34.162435655Z",
     "start_time": "2024-01-16T06:57:34.148461589Z"
    }
   },
   "id": "5a7a679ce22fa663"
  },
  {
   "cell_type": "code",
   "execution_count": 43,
   "outputs": [],
   "source": [
    "def calculate_letter_score(img: Image, x1: int, y1: int, x2: int, y2: int) -> int:\n",
    "    score = 0\n",
    "    primes = [2, 3, 5, 7, 11, 13, 17, 19]\n",
    "    for y in range(y1, y2):\n",
    "        s = 0\n",
    "        for x in range(x1, x2):\n",
    "            s += img.getpixel((x, y)) * primes[x - x1]\n",
    "        score += s * 11**y\n",
    "    return score"
   ],
   "metadata": {
    "collapsed": false,
    "ExecuteTime": {
     "end_time": "2024-01-16T08:12:24.234988788Z",
     "start_time": "2024-01-16T08:12:24.204774814Z"
    }
   },
   "id": "866a01f7c9eb1ce4"
  },
  {
   "cell_type": "code",
   "execution_count": 19,
   "outputs": [],
   "source": [
    "def get_output_file_content(file_name: str) -> str:\n",
    "    with open(file_name, \"r\") as f:\n",
    "        return f.read().strip()"
   ],
   "metadata": {
    "collapsed": false,
    "ExecuteTime": {
     "end_time": "2024-01-16T07:27:42.229251768Z",
     "start_time": "2024-01-16T07:27:42.223230041Z"
    }
   },
   "id": "6e72caa2ee035c17"
  },
  {
   "cell_type": "code",
   "execution_count": 44,
   "outputs": [
    {
     "name": "stdout",
     "output_type": "stream",
     "text": [
      "17625899469123210706848\n",
      "18383990523184784126915\n",
      "43661467064742537274946\n",
      "27084881711340547886880\n",
      "34757150346768713896989\n",
      "EGYK4\n",
      "26680850994944247235937\n",
      "18498956091371910939048\n",
      "28384232741340936459703\n",
      "30190891455050210039639\n",
      "GRC35\n",
      "30188208218048391900037\n",
      "30188127055152141518256\n",
      "25329878814827491115112\n",
      "18096974570128686355849\n",
      "6O5W1\n",
      "39351426763227391830204\n",
      "4613841854003088214530\n",
      "53260894319477455608789\n",
      "J627C\n",
      "43551287103958226465895\n",
      "17626049865178828212667\n",
      "18096974851160681907684\n",
      "VLI2C\n",
      "17263341089396700500015\n",
      "O1R7Q\n",
      "43661474652606417174491\n",
      "26622703831098726513855\n",
      "27007854359823311888232\n",
      "OYTAD\n",
      "17624149399861213282502\n",
      "26639989377891308108712\n",
      "30188127044310298035038\n",
      "ZRMQU\n",
      "25760514696146198798335\n",
      "30200880193813367500759\n",
      "16580158695482559583472\n",
      "N9DQS\n",
      "ZGJS3\n",
      "27008132336701494820644\n",
      "GZMBA\n",
      "J14DM\n",
      "53281563160534943388286\n",
      "PQ9AE\n",
      "VWZDO\n",
      "WGST7\n",
      "26661261708197290581132\n",
      "XKMS2\n",
      "1D2KB\n",
      "42436625011756130727132\n",
      "26640749417368155386724\n",
      "20BHQ\n",
      "OAH0V\n",
      "30188286929832080062717\n",
      "5I8VE\n",
      "Z97ME\n",
      "HCE91\n",
      "WELXV\n",
      "53281649195127969452892\n",
      "UHVFO\n"
     ]
    },
    {
     "data": {
      "text/plain": "{'E': 17625899469123210706848,\n 'G': 18383990523184784126915,\n 'Y': 43661467064742537274946,\n 'K': 27084881711340547886880,\n '4': 34757150346768713896989,\n 'R': 26680850994944247235937,\n 'C': 18498956091371910939048,\n '3': 28384232741340936459703,\n '5': 30190891455050210039639,\n '6': 30188208218048391900037,\n 'O': 30188127055152141518256,\n 'W': 25329878814827491115112,\n '1': 18096974570128686355849,\n 'J': 39351426763227391830204,\n '2': 4613841854003088214530,\n '7': 53260894319477455608789,\n 'V': 43551287103958226465895,\n 'L': 17626049865178828212667,\n 'I': 18096974851160681907684,\n 'Q': 17263341089396700500015,\n 'T': 43661474652606417174491,\n 'A': 26622703831098726513855,\n 'D': 27007854359823311888232,\n 'Z': 17624149399861213282502,\n 'M': 26639989377891308108712,\n 'U': 30188127044310298035038,\n 'N': 25760514696146198798335,\n '9': 30200880193813367500759,\n 'S': 16580158695482559583472,\n 'B': 27008132336701494820644,\n 'P': 53281563160534943388286,\n 'X': 26661261708197290581132,\n '0': 42436625011756130727132,\n 'H': 26640749417368155386724,\n '8': 30188286929832080062717,\n 'F': 53281649195127969452892}"
     },
     "execution_count": 44,
     "metadata": {},
     "output_type": "execute_result"
    }
   ],
   "source": [
    "def calculate_line_stats(image_path: str, output_path: str):\n",
    "    jpg_files = glob.glob(image_path)\n",
    "    score_table = {}\n",
    "    \n",
    "    for img_file_path in sorted(jpg_files):\n",
    "        jpg_file_name = os.path.basename(img_file_path)\n",
    "        root_file_name, _ = os.path.splitext(jpg_file_name)\n",
    "        output_file = os.path.join(output_path, f\"{root_file_name}.txt\".replace(\"input\", \"output\"))\n",
    "        \n",
    "        try:\n",
    "            output_text = get_output_file_content(output_file)\n",
    "        except:\n",
    "            continue\n",
    "        \n",
    "        img = Image.open(img_file_path)\n",
    "        # Convert the image to grayscale\n",
    "        img = img.convert('L')\n",
    "        # Apply a threshold to convert the image to binary\n",
    "        threshold = 60\n",
    "        img = img.point(lambda p: p > threshold)\n",
    "        \n",
    "        for i in range(letter_cnt):\n",
    "            score = calculate_letter_score(img, start_x + i * (letter_width + spacing), start_y, start_x + i * spacing + (i + 1) * letter_width, start_y + letter_height)\n",
    "            solution_letter = output_text[i]\n",
    "            if solution_letter not in score_table:\n",
    "                print(score)\n",
    "                score_table[solution_letter] = score\n",
    "            elif score_table[solution_letter] != score:\n",
    "                print(\"scores don't match...\")\n",
    "                print(f\"old score: {score_table[solution_letter]}\")\n",
    "                print(f\"new score: {score}\")\n",
    "        print(output_text)\n",
    "    return score_table\n",
    "        \n",
    "score_table = calculate_line_stats(\"sampleCaptchas/input/*.jpg\", \"sampleCaptchas/output/\")    \n",
    "score_table"
   ],
   "metadata": {
    "collapsed": false,
    "ExecuteTime": {
     "end_time": "2024-01-16T08:12:25.638558204Z",
     "start_time": "2024-01-16T08:12:25.610893842Z"
    }
   },
   "id": "c6d9f433d8efdb74"
  },
  {
   "cell_type": "code",
   "execution_count": 47,
   "outputs": [
    {
     "data": {
      "text/plain": "{17625899469123210706848: 'E',\n 18383990523184784126915: 'G',\n 43661467064742537274946: 'Y',\n 27084881711340547886880: 'K',\n 34757150346768713896989: '4',\n 26680850994944247235937: 'R',\n 18498956091371910939048: 'C',\n 28384232741340936459703: '3',\n 30190891455050210039639: '5',\n 30188208218048391900037: '6',\n 30188127055152141518256: 'O',\n 25329878814827491115112: 'W',\n 18096974570128686355849: '1',\n 39351426763227391830204: 'J',\n 4613841854003088214530: '2',\n 53260894319477455608789: '7',\n 43551287103958226465895: 'V',\n 17626049865178828212667: 'L',\n 18096974851160681907684: 'I',\n 17263341089396700500015: 'Q',\n 43661474652606417174491: 'T',\n 26622703831098726513855: 'A',\n 27007854359823311888232: 'D',\n 17624149399861213282502: 'Z',\n 26639989377891308108712: 'M',\n 30188127044310298035038: 'U',\n 25760514696146198798335: 'N',\n 30200880193813367500759: '9',\n 16580158695482559583472: 'S',\n 27008132336701494820644: 'B',\n 53281563160534943388286: 'P',\n 26661261708197290581132: 'X',\n 42436625011756130727132: '0',\n 26640749417368155386724: 'H',\n 30188286929832080062717: '8',\n 53281649195127969452892: 'F'}"
     },
     "execution_count": 47,
     "metadata": {},
     "output_type": "execute_result"
    }
   ],
   "source": [
    "# get the inverse of the score_table:\n",
    "{v: k for k, v in score_table.items()}"
   ],
   "metadata": {
    "collapsed": false,
    "ExecuteTime": {
     "end_time": "2024-01-16T08:15:57.074922979Z",
     "start_time": "2024-01-16T08:15:57.060254283Z"
    }
   },
   "id": "53cb22b4430b1d55"
  }
 ],
 "metadata": {
  "kernelspec": {
   "display_name": "Python 3",
   "language": "python",
   "name": "python3"
  },
  "language_info": {
   "codemirror_mode": {
    "name": "ipython",
    "version": 2
   },
   "file_extension": ".py",
   "mimetype": "text/x-python",
   "name": "python",
   "nbconvert_exporter": "python",
   "pygments_lexer": "ipython2",
   "version": "2.7.6"
  }
 },
 "nbformat": 4,
 "nbformat_minor": 5
}
